{
 "cells": [
  {
   "cell_type": "markdown",
   "id": "b30a9066-42cf-47da-a228-28ea71dca8fe",
   "metadata": {
    "tags": []
   },
   "source": [
    "# Statements Assessment Test\n",
    "Let's test your knowledge!\n"
   ]
  },
  {
   "cell_type": "markdown",
   "id": "8dcb4097-8226-439d-9b06-cea22de177ef",
   "metadata": {},
   "source": [
    "Use for, .split(), and if to create a Statement that will print out words that start with 's':"
   ]
  },
  {
   "cell_type": "code",
   "execution_count": 2,
   "id": "14899ed5-d11b-4af1-b225-744771047230",
   "metadata": {
    "tags": []
   },
   "outputs": [],
   "source": [
    "st = 'Print only the words that start with s in this sentence'"
   ]
  },
  {
   "cell_type": "code",
   "execution_count": 7,
   "id": "855fc377-dd07-4ffb-8494-d1eac9639285",
   "metadata": {
    "tags": []
   },
   "outputs": [
    {
     "name": "stdout",
     "output_type": "stream",
     "text": [
      "start\n",
      "s\n",
      "sentence\n"
     ]
    }
   ],
   "source": [
    "# Solution to the problem :\n",
    "\n",
    "for word in list(st.split(\" \")):\n",
    "    if word[0].lower() == \"s\":\n",
    "        print(word)"
   ]
  },
  {
   "cell_type": "markdown",
   "id": "c47a9f1e-2f72-4519-a877-1bdedd75e23e",
   "metadata": {},
   "source": [
    "Use range() to print all the even numbers from 0 to 10."
   ]
  },
  {
   "cell_type": "code",
   "execution_count": 8,
   "id": "dd4bdc6f-952a-473a-a03d-3f8fda40c22f",
   "metadata": {
    "tags": []
   },
   "outputs": [
    {
     "data": {
      "text/plain": [
       "[0, 2, 4, 6, 8, 10]"
      ]
     },
     "execution_count": 8,
     "metadata": {},
     "output_type": "execute_result"
    }
   ],
   "source": [
    "#Solution to the problem:\n",
    "\n",
    "[x for x in range(0 , 11, 2)]"
   ]
  },
  {
   "cell_type": "markdown",
   "id": "daa861ac-1e07-4479-b6b8-185440db9cee",
   "metadata": {},
   "source": [
    "Use a List Comprehension to create a list of all numbers between 1 and 50 that are divisible by 3."
   ]
  },
  {
   "cell_type": "code",
   "execution_count": 11,
   "id": "bea1cbeb-cfb3-4210-9c8b-5e509e85778a",
   "metadata": {
    "tags": []
   },
   "outputs": [
    {
     "data": {
      "text/plain": [
       "[3, 6, 9, 12, 15, 18, 21, 24, 27, 30, 33, 36, 39, 42, 45, 48]"
      ]
     },
     "execution_count": 11,
     "metadata": {},
     "output_type": "execute_result"
    }
   ],
   "source": [
    "#Code for the above problem\n",
    "\n",
    "[ num for num in range(1,51) if num % 3 ==0 ]"
   ]
  },
  {
   "cell_type": "markdown",
   "id": "d471b471-db47-4355-ac71-19d3f458f7f7",
   "metadata": {},
   "source": [
    "Go through the string below and if the length of a word is even print \"even!\""
   ]
  },
  {
   "cell_type": "code",
   "execution_count": 12,
   "id": "63e39579-0d1e-45c8-bec9-a8d494259baa",
   "metadata": {
    "tags": []
   },
   "outputs": [],
   "source": [
    "st = 'Print every word in this sentence that has an even number of letters'"
   ]
  },
  {
   "cell_type": "code",
   "execution_count": 17,
   "id": "8883fabc-99aa-4187-b155-9ec27dc457b1",
   "metadata": {
    "tags": []
   },
   "outputs": [
    {
     "name": "stdout",
     "output_type": "stream",
     "text": [
      "word\n",
      "in\n",
      "this\n",
      "sentence\n",
      "that\n",
      "an\n",
      "even\n",
      "number\n",
      "of\n"
     ]
    }
   ],
   "source": [
    "for word in list(st.split(\" \")):\n",
    "    if len(word)%2==0 :\n",
    "        print(word)"
   ]
  },
  {
   "cell_type": "markdown",
   "id": "c5bceb32-5122-4a61-b14b-1b5dcd6d3436",
   "metadata": {},
   "source": [
    "Write a program that prints the integers from 1 to 100. But for multiples of three print \"Fizz\" instead of the number, and for the multiples of five print \"Buzz\". For numbers which are multiples of both three and five print \"FizzBuzz\"."
   ]
  },
  {
   "cell_type": "code",
   "execution_count": 27,
   "id": "51769d88-548b-4a6b-a333-e47c3e3839d1",
   "metadata": {
    "tags": []
   },
   "outputs": [
    {
     "name": "stdout",
     "output_type": "stream",
     "text": [
      "1 2 Fizz 4 Buzz\n",
      "Fizz 7 8 Fizz Buzz\n",
      "11 Fizz 13 14 FizzBuzz 16 17 Fizz 19 Buzz\n",
      "Fizz 22 23 Fizz Buzz\n",
      "26 Fizz 28 29 FizzBuzz 31 32 Fizz 34 Buzz\n",
      "Fizz 37 38 Fizz Buzz\n",
      "41 Fizz 43 44 FizzBuzz 46 47 Fizz 49 Buzz\n",
      "Fizz 52 53 Fizz Buzz\n",
      "56 Fizz 58 59 FizzBuzz 61 62 Fizz 64 Buzz\n",
      "Fizz 67 68 Fizz Buzz\n",
      "71 Fizz 73 74 FizzBuzz 76 77 Fizz 79 Buzz\n",
      "Fizz 82 83 Fizz Buzz\n",
      "86 Fizz 88 89 FizzBuzz 91 92 Fizz 94 Buzz\n",
      "Fizz 97 98 Fizz Buzz\n"
     ]
    }
   ],
   "source": [
    "for i in range(1,101):\n",
    "    if i%3== 0 and i%5== 0:\n",
    "        print(\"FizzBuzz\", end= \" \")\n",
    "    elif i % 3 == 0:\n",
    "        print(\"Fizz\", end= \" \")\n",
    "    elif i% 5 == 0:\n",
    "        print(\"Buzz\")     \n",
    "    else:\n",
    "        print(i ,end=\" \")"
   ]
  },
  {
   "cell_type": "markdown",
   "id": "381a36df-c5bd-4d93-b98b-435cd2dd4097",
   "metadata": {},
   "source": [
    "Use List Comprehension to create a list of the first letters of every word in the string below:"
   ]
  },
  {
   "cell_type": "code",
   "execution_count": 21,
   "id": "07dfd76b-3057-443e-92e0-0f6759ea46c6",
   "metadata": {
    "tags": []
   },
   "outputs": [],
   "source": [
    "st = 'Create a list of the first letters of every word in this string'"
   ]
  },
  {
   "cell_type": "code",
   "execution_count": 23,
   "id": "938b92c0-7ab6-4cd4-baaf-5fe51f615d24",
   "metadata": {
    "tags": []
   },
   "outputs": [
    {
     "data": {
      "text/plain": [
       "['C', 'a', 'l', 'o', 't', 'f', 'l', 'o', 'e', 'w', 'i', 't', 's']"
      ]
     },
     "execution_count": 23,
     "metadata": {},
     "output_type": "execute_result"
    }
   ],
   "source": [
    "#Solution 1:\n",
    "l1=[]\n",
    "for word in st.split(\" \"):\n",
    "    l1.append(word[0])\n",
    "l1\n",
    "    "
   ]
  },
  {
   "cell_type": "code",
   "execution_count": 25,
   "id": "2efc5c58-24c9-4b58-a1cd-26e16797125f",
   "metadata": {
    "tags": []
   },
   "outputs": [
    {
     "data": {
      "text/plain": [
       "['C', 'a', 'l', 'o', 't', 'f', 'l', 'o', 'e', 'w', 'i', 't', 's']"
      ]
     },
     "execution_count": 25,
     "metadata": {},
     "output_type": "execute_result"
    }
   ],
   "source": [
    "#Solution using List Comprehensions:\n",
    "[word[0] for word in st.split(\" \")]"
   ]
  },
  {
   "cell_type": "code",
   "execution_count": null,
   "id": "3c260234-9319-48d9-b9c0-76df44eb302a",
   "metadata": {},
   "outputs": [],
   "source": []
  }
 ],
 "metadata": {
  "kernelspec": {
   "display_name": "Python 3 (ipykernel)",
   "language": "python",
   "name": "python3"
  },
  "language_info": {
   "codemirror_mode": {
    "name": "ipython",
    "version": 3
   },
   "file_extension": ".py",
   "mimetype": "text/x-python",
   "name": "python",
   "nbconvert_exporter": "python",
   "pygments_lexer": "ipython3",
   "version": "3.11.5"
  }
 },
 "nbformat": 4,
 "nbformat_minor": 5
}
