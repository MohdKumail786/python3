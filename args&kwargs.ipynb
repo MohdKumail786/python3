{
 "cells": [
  {
   "cell_type": "code",
   "execution_count": 1,
   "id": "42df2e8d-d38b-44b8-a3a3-99146e43fa72",
   "metadata": {
    "tags": []
   },
   "outputs": [],
   "source": [
    "# Variable Length Arguments *args (Non keyword Arguments)\n",
    "def order_food(min_order, *args):\n",
    "    print(f\"You have ordered: {min_order}\")\n",
    "#    print(args)\n",
    "    for item in args:\n",
    "        print(f\"You have ordered: {item}\")\n",
    "    print(\"Your food will be delivered in 30 mins:\")\n",
    "    print(\"Enjoy the party\")\n",
    "\n",
    "\n"
   ]
  },
  {
   "cell_type": "code",
   "execution_count": 3,
   "id": "6b6aaa83-055a-4d0e-bc59-7f7e2b88fafa",
   "metadata": {
    "tags": []
   },
   "outputs": [
    {
     "name": "stdout",
     "output_type": "stream",
     "text": [
      "You have ordered: Salad\n",
      "You have ordered: Pizza\n",
      "You have ordered: Biryani\n",
      "You have ordered: Soup\n",
      "You have ordered: pasta\n",
      "Your food will be delivered in 30 mins:\n",
      "Enjoy the party\n"
     ]
    }
   ],
   "source": [
    "order_food(\"Salad\", \"Pizza\", \"Biryani\", \"Soup\", \"pasta\")"
   ]
  },
  {
   "cell_type": "code",
   "execution_count": null,
   "id": "69b9ee34-dc36-4f60-9bb6-2511978ae6fe",
   "metadata": {},
   "outputs": [],
   "source": []
  }
 ],
 "metadata": {
  "kernelspec": {
   "display_name": "Python 3 (ipykernel)",
   "language": "python",
   "name": "python3"
  },
  "language_info": {
   "codemirror_mode": {
    "name": "ipython",
    "version": 3
   },
   "file_extension": ".py",
   "mimetype": "text/x-python",
   "name": "python",
   "nbconvert_exporter": "python",
   "pygments_lexer": "ipython3",
   "version": "3.11.5"
  }
 },
 "nbformat": 4,
 "nbformat_minor": 5
}
