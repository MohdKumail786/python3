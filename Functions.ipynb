{
 "cells": [
  {
   "cell_type": "raw",
   "id": "dad27b38-3748-4038-ae2c-6a80286abb91",
   "metadata": {},
   "source": [
    "Functions in python "
   ]
  },
  {
   "cell_type": "code",
   "execution_count": 1,
   "id": "dcaf589f-cc5d-4438-9732-c338c2599c56",
   "metadata": {
    "tags": []
   },
   "outputs": [],
   "source": [
    "# Keywords arguments\n",
    "def vac_feedback(vac, efficacy):\n",
    "    print(f\"{vac} Vaccine is having {efficacy} % efficacy.\")\n",
    "    if (efficacy > 50) and (efficacy <= 75):\n",
    "        print(\"Seems not so effective, Needs more trial.\")\n",
    "    elif (efficacy > 75) and (efficacy < 90):\n",
    "        print(\"Can consider this vaccine.\")\n",
    "    elif efficacy >= 90:\n",
    "        print(\"Sure, will take the shot.\")\n",
    "    else:\n",
    "        print(\"Needs many more trials.\")\n"
   ]
  },
  {
   "cell_type": "code",
   "execution_count": 2,
   "id": "6e034bee-9e12-4904-8d26-27c79e78024a",
   "metadata": {
    "tags": []
   },
   "outputs": [
    {
     "name": "stdout",
     "output_type": "stream",
     "text": [
      "Pfizer Vaccine is having 95 % efficacy.\n",
      "Sure, will take the shot.\n"
     ]
    }
   ],
   "source": [
    "vac_feedback(\"Pfizer\", 95)\n",
    "#vac_feedback(\"Unknown\", 45)\n",
    "#vac_feedback(efficacy=34, vac=\"Unknown\")"
   ]
  },
  {
   "cell_type": "code",
   "execution_count": 3,
   "id": "a3cd5100-b788-435f-8ed2-dde3236d7eed",
   "metadata": {
    "tags": []
   },
   "outputs": [
    {
     "name": "stdout",
     "output_type": "stream",
     "text": [
      "Unknown Vaccine is having 45 % efficacy.\n",
      "Needs many more trials.\n"
     ]
    }
   ],
   "source": [
    "#vac_feedback(\"Pfizer\", 95)\n",
    "vac_feedback(\"Unknown\", 45)\n",
    "#vac_feedback(efficacy=34, vac=\"Unknown\")"
   ]
  },
  {
   "cell_type": "code",
   "execution_count": 4,
   "id": "f6e31bb1-9abf-4f13-ad53-e684d88a795b",
   "metadata": {
    "tags": []
   },
   "outputs": [
    {
     "name": "stdout",
     "output_type": "stream",
     "text": [
      "Unknown Vaccine is having 34 % efficacy.\n",
      "Needs many more trials.\n"
     ]
    }
   ],
   "source": [
    "#vac_feedback(\"Pfizer\", 95)\n",
    "#vac_feedback(\"Unknown\", 45)\n",
    "vac_feedback(efficacy=34, vac=\"Unknown\")"
   ]
  },
  {
   "cell_type": "code",
   "execution_count": null,
   "id": "c30e3826-efee-4933-be45-2a9402e06d8c",
   "metadata": {},
   "outputs": [],
   "source": []
  }
 ],
 "metadata": {
  "kernelspec": {
   "display_name": "Python 3 (ipykernel)",
   "language": "python",
   "name": "python3"
  },
  "language_info": {
   "codemirror_mode": {
    "name": "ipython",
    "version": 3
   },
   "file_extension": ".py",
   "mimetype": "text/x-python",
   "name": "python",
   "nbconvert_exporter": "python",
   "pygments_lexer": "ipython3",
   "version": "3.11.5"
  }
 },
 "nbformat": 4,
 "nbformat_minor": 5
}
