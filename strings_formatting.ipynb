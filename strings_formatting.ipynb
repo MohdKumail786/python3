{
 "cells": [
  {
   "cell_type": "markdown",
   "id": "0a744b08-cd23-4e46-b576-18c159aacdc4",
   "metadata": {},
   "source": [
    "String Indexing & Slicing "
   ]
  },
  {
   "cell_type": "code",
   "execution_count": 1,
   "id": "2b2612c6-ca2e-46a6-bd9a-a22d7ea51db6",
   "metadata": {
    "tags": []
   },
   "outputs": [
    {
     "data": {
      "text/plain": [
       "'hello'"
      ]
     },
     "execution_count": 1,
     "metadata": {},
     "output_type": "execute_result"
    }
   ],
   "source": [
    "'hello'"
   ]
  },
  {
   "cell_type": "code",
   "execution_count": 2,
   "id": "e93a6c97-9966-41e9-b130-41e9c37f3ada",
   "metadata": {
    "tags": []
   },
   "outputs": [
    {
     "data": {
      "text/plain": [
       "'World'"
      ]
     },
     "execution_count": 2,
     "metadata": {},
     "output_type": "execute_result"
    }
   ],
   "source": [
    "\"World\""
   ]
  },
  {
   "cell_type": "code",
   "execution_count": 3,
   "id": "d1d9c95c-18a3-4f82-9595-36bfe52a416c",
   "metadata": {
    "tags": []
   },
   "outputs": [
    {
     "data": {
      "text/plain": [
       "'this is also a string'"
      ]
     },
     "execution_count": 3,
     "metadata": {},
     "output_type": "execute_result"
    }
   ],
   "source": [
    "'this is also a string'"
   ]
  },
  {
   "cell_type": "code",
   "execution_count": 6,
   "id": "5d13c4b4-2412-4a21-a760-567c833dfb46",
   "metadata": {
    "tags": []
   },
   "outputs": [
    {
     "data": {
      "text/plain": [
       "\" I'm going on a run \""
      ]
     },
     "execution_count": 6,
     "metadata": {},
     "output_type": "execute_result"
    }
   ],
   "source": [
    "\" I'm going on a run \""
   ]
  },
  {
   "cell_type": "code",
   "execution_count": 7,
   "id": "730325ba-76c1-4635-be9f-74c31f7ab0d7",
   "metadata": {
    "tags": []
   },
   "outputs": [
    {
     "name": "stdout",
     "output_type": "stream",
     "text": [
      "hello\n"
     ]
    }
   ],
   "source": [
    "print(\"hello\")"
   ]
  },
  {
   "cell_type": "code",
   "execution_count": 8,
   "id": "50689f7c-7df2-4166-8c64-5f666d0ec7e2",
   "metadata": {
    "tags": []
   },
   "outputs": [
    {
     "name": "stdout",
     "output_type": "stream",
     "text": [
      "hello world one\n",
      "hello world two\n"
     ]
    }
   ],
   "source": [
    "print(\"hello world one\")\n",
    "print(\"hello world two\")"
   ]
  },
  {
   "cell_type": "code",
   "execution_count": 9,
   "id": "3a66aee1-a166-4dba-b151-4eb5f7904a93",
   "metadata": {
    "tags": []
   },
   "outputs": [
    {
     "name": "stdout",
     "output_type": "stream",
     "text": [
      "hello world\n"
     ]
    }
   ],
   "source": [
    "print('hello world')"
   ]
  },
  {
   "cell_type": "code",
   "execution_count": 10,
   "id": "1a2aa309-2833-4537-bf97-aa8f120b492a",
   "metadata": {
    "tags": []
   },
   "outputs": [
    {
     "name": "stdout",
     "output_type": "stream",
     "text": [
      "hello \n",
      " world\n"
     ]
    }
   ],
   "source": [
    "print(\"hello \\n world\")"
   ]
  },
  {
   "cell_type": "code",
   "execution_count": 11,
   "id": "a8701a75-0f0d-4e3e-a16d-1c6d43edfbee",
   "metadata": {
    "tags": []
   },
   "outputs": [
    {
     "name": "stdout",
     "output_type": "stream",
     "text": [
      "hello \t world\n"
     ]
    }
   ],
   "source": [
    "print('hello \\t world')"
   ]
  },
  {
   "cell_type": "code",
   "execution_count": 12,
   "id": "1e955ba1-522d-4ff3-b28f-e0a022c1fd89",
   "metadata": {
    "tags": []
   },
   "outputs": [
    {
     "data": {
      "text/plain": [
       "5"
      ]
     },
     "execution_count": 12,
     "metadata": {},
     "output_type": "execute_result"
    }
   ],
   "source": [
    "len('hello')"
   ]
  },
  {
   "cell_type": "code",
   "execution_count": 13,
   "id": "8997c8da-a20d-47c2-9100-ac835b62577d",
   "metadata": {
    "tags": []
   },
   "outputs": [
    {
     "data": {
      "text/plain": [
       "12"
      ]
     },
     "execution_count": 13,
     "metadata": {},
     "output_type": "execute_result"
    }
   ],
   "source": [
    "len('i am hungary')"
   ]
  },
  {
   "cell_type": "code",
   "execution_count": 22,
   "id": "5a176357-d42b-4997-bb21-5e1c686fbb06",
   "metadata": {
    "tags": []
   },
   "outputs": [
    {
     "name": "stdout",
     "output_type": "stream",
     "text": [
      "14\n"
     ]
    },
    {
     "data": {
      "text/plain": [
       "' yragnuh ma i '"
      ]
     },
     "execution_count": 22,
     "metadata": {},
     "output_type": "execute_result"
    }
   ],
   "source": [
    "a = \" i am hungary \"\n",
    "print(len(a))\n",
    "dup_str=\"\"\n",
    "for i in reversed (a):\n",
    "    dup_str+= i\n",
    "dup_str"
   ]
  },
  {
   "cell_type": "raw",
   "id": "7fa30d47-ad4c-4f2b-b7f1-e065ba091fc1",
   "metadata": {},
   "source": [
    "Formatting with the .format() method\n",
    "A good way to format objects into your srings for print statements is with the string .format() method.The Syntax is :\n",
    "'String here {} then also {}'.format('something1', 'something2')"
   ]
  },
  {
   "cell_type": "code",
   "execution_count": 24,
   "id": "b87e9e7e-fb20-4318-867f-6f79f4b5c205",
   "metadata": {
    "tags": []
   },
   "outputs": [
    {
     "name": "stdout",
     "output_type": "stream",
     "text": [
      "This is a String INSERTED \n"
     ]
    }
   ],
   "source": [
    "print('This is a String {} '.format('INSERTED'))"
   ]
  },
  {
   "cell_type": "code",
   "execution_count": 26,
   "id": "8cff058a-6598-4327-963f-e514bfa5ab0a",
   "metadata": {
    "tags": []
   },
   "outputs": [
    {
     "name": "stdout",
     "output_type": "stream",
     "text": [
      "The Fox Brown Quick \n"
     ]
    }
   ],
   "source": [
    "print('The {} {} {} '.format('Fox', 'Brown', 'Quick' ))"
   ]
  },
  {
   "cell_type": "code",
   "execution_count": 27,
   "id": "09310ea3-b66e-4678-ae5e-4d0d42527d7d",
   "metadata": {
    "tags": []
   },
   "outputs": [
    {
     "name": "stdout",
     "output_type": "stream",
     "text": [
      "The Quick Brown Fox \n"
     ]
    }
   ],
   "source": [
    "print('The {2} {1} {0} '.format('Fox', 'Brown', 'Quick' ))"
   ]
  },
  {
   "cell_type": "code",
   "execution_count": 28,
   "id": "a725e25a-a476-4070-b11c-e02f21100fc5",
   "metadata": {
    "tags": []
   },
   "outputs": [
    {
     "name": "stdout",
     "output_type": "stream",
     "text": [
      "The Fox Fox Fox \n"
     ]
    }
   ],
   "source": [
    "print('The {0} {0} {0} '.format('Fox', 'Brown', 'Quick' ))"
   ]
  },
  {
   "cell_type": "code",
   "execution_count": 32,
   "id": "6ebf2e48-1df3-4b48-b080-e9a3b596d278",
   "metadata": {
    "tags": []
   },
   "outputs": [
    {
     "name": "stdout",
     "output_type": "stream",
     "text": [
      "The Quick Brown Fox \n"
     ]
    }
   ],
   "source": [
    "print('The {q} {b} {f} '.format(f='Fox',b='Brown',q='Quick' ))"
   ]
  },
  {
   "cell_type": "raw",
   "id": "fc51bd5a-0e80-40b5-a8cd-f5fa35208724",
   "metadata": {},
   "source": [
    "Float Formatting follows \"{value:width.precision f }\""
   ]
  },
  {
   "cell_type": "code",
   "execution_count": 33,
   "id": "c37db052-1be5-4f31-a839-2241062e8c70",
   "metadata": {
    "tags": []
   },
   "outputs": [],
   "source": [
    "result = 100/777"
   ]
  },
  {
   "cell_type": "code",
   "execution_count": 34,
   "id": "4f85c77e-3c58-42b9-aa16-eee39060e1ed",
   "metadata": {
    "tags": []
   },
   "outputs": [
    {
     "data": {
      "text/plain": [
       "0.1287001287001287"
      ]
     },
     "execution_count": 34,
     "metadata": {},
     "output_type": "execute_result"
    }
   ],
   "source": [
    "result\n"
   ]
  },
  {
   "cell_type": "code",
   "execution_count": 37,
   "id": "b2339d2b-4d58-4d3a-96ba-9de67abad29a",
   "metadata": {
    "tags": []
   },
   "outputs": [
    {
     "name": "stdout",
     "output_type": "stream",
     "text": [
      "The result was 0.1287001287001287\n"
     ]
    }
   ],
   "source": [
    "print(\"The result was {r}\".format(r=result))"
   ]
  },
  {
   "cell_type": "code",
   "execution_count": 41,
   "id": "70885d20-fb15-401c-889a-1e5a086fb632",
   "metadata": {
    "tags": []
   },
   "outputs": [
    {
     "name": "stdout",
     "output_type": "stream",
     "text": [
      "The result was      0.129\n"
     ]
    }
   ],
   "source": [
    "print(\"The result was {r:10.3f}\".format(r=result))"
   ]
  },
  {
   "cell_type": "code",
   "execution_count": 46,
   "id": "ac2faf90-80b6-4571-9bde-89a5664725b2",
   "metadata": {
    "tags": []
   },
   "outputs": [],
   "source": [
    "value = 102.78653566"
   ]
  },
  {
   "cell_type": "code",
   "execution_count": 53,
   "id": "67b58703-027b-4419-9e6d-17a9176b2883",
   "metadata": {
    "tags": []
   },
   "outputs": [
    {
     "name": "stdout",
     "output_type": "stream",
     "text": [
      "The result was 102.7865\n"
     ]
    }
   ],
   "source": [
    "print(\"The result was {v:5.4f}\".format(v=value))"
   ]
  },
  {
   "cell_type": "code",
   "execution_count": 58,
   "id": "ea9f4518-8183-4a37-9938-7cd26879ae93",
   "metadata": {
    "tags": []
   },
   "outputs": [
    {
     "name": "stdout",
     "output_type": "stream",
     "text": [
      "The result was 102.79\n"
     ]
    }
   ],
   "source": [
    "print(\"The result was {v:1.2f}\".format(v=value))"
   ]
  },
  {
   "cell_type": "raw",
   "id": "f8554121-41de-4a7b-a9b3-f6076468ee4d",
   "metadata": {},
   "source": [
    "Formatted string literals new feature in Python 3.6"
   ]
  },
  {
   "cell_type": "code",
   "execution_count": 62,
   "id": "069176bc-114d-4f22-a60a-bb4f4c343d29",
   "metadata": {
    "tags": []
   },
   "outputs": [],
   "source": [
    "name=\"Kumail\""
   ]
  },
  {
   "cell_type": "code",
   "execution_count": 63,
   "id": "8db1f3d7-1e2f-491d-912c-34628ff389da",
   "metadata": {
    "tags": []
   },
   "outputs": [
    {
     "name": "stdout",
     "output_type": "stream",
     "text": [
      "Hello, his name is Kumail\n"
     ]
    }
   ],
   "source": [
    "print(f'Hello, his name is {name}')"
   ]
  },
  {
   "cell_type": "code",
   "execution_count": 64,
   "id": "2d2f1246-d80d-42a6-ad5d-efb1a525a66e",
   "metadata": {
    "tags": []
   },
   "outputs": [],
   "source": [
    "name=\"kumail\"\n",
    "age=26"
   ]
  },
  {
   "cell_type": "code",
   "execution_count": 66,
   "id": "0deebb9e-b502-418a-9da2-0e3f8f1bd15d",
   "metadata": {
    "tags": []
   },
   "outputs": [
    {
     "name": "stdout",
     "output_type": "stream",
     "text": [
      "kumail is 26 years old\n"
     ]
    }
   ],
   "source": [
    "print(f'{name} is {age} years old')"
   ]
  },
  {
   "cell_type": "code",
   "execution_count": 1,
   "id": "3e944205-bab8-4312-b238-3c1934252b31",
   "metadata": {},
   "outputs": [],
   "source": [
    "n= \"Kumail\"\n",
    "g= \"great\""
   ]
  },
  {
   "cell_type": "code",
   "execution_count": 3,
   "id": "0c92b231-2916-47f2-9166-1bf4a9947928",
   "metadata": {},
   "outputs": [
    {
     "name": "stdout",
     "output_type": "stream",
     "text": [
      "Kumail is a good boy and great\n"
     ]
    }
   ],
   "source": [
    "print(f'{n} is a good boy and {g}')"
   ]
  },
  {
   "cell_type": "code",
   "execution_count": null,
   "id": "2830e237-fa36-43d2-a75a-5ddc2943f84a",
   "metadata": {},
   "outputs": [],
   "source": []
  }
 ],
 "metadata": {
  "kernelspec": {
   "display_name": "Python 3 (ipykernel)",
   "language": "python",
   "name": "python3"
  },
  "language_info": {
   "codemirror_mode": {
    "name": "ipython",
    "version": 3
   },
   "file_extension": ".py",
   "mimetype": "text/x-python",
   "name": "python",
   "nbconvert_exporter": "python",
   "pygments_lexer": "ipython3",
   "version": "3.11.5"
  }
 },
 "nbformat": 4,
 "nbformat_minor": 5
}
